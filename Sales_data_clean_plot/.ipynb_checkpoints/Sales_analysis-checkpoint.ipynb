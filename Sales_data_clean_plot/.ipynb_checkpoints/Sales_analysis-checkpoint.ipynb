{
 "cells": [
  {
   "cell_type": "code",
   "execution_count": 13,
   "id": "1f25b405-cc61-4845-b681-47892db26339",
   "metadata": {
    "scrolled": true
   },
   "outputs": [],
   "source": [
    "import pandas as pd"
   ]
  },
  {
   "cell_type": "code",
   "execution_count": 14,
   "id": "ec2ba434-b9bd-4362-b218-80e39697a176",
   "metadata": {},
   "outputs": [],
   "source": [
    "data = pd.read_csv('/Users/macbookpro/Desktop/Sales.csv', encoding='unicode_escape')"
   ]
  },
  {
   "cell_type": "code",
   "execution_count": 15,
   "id": "a746a6a2-c76a-4603-9f77-382e640b5ffd",
   "metadata": {},
   "outputs": [],
   "source": [
    "df = pd.DataFrame(data)"
   ]
  },
  {
   "cell_type": "code",
   "execution_count": 16,
   "id": "99ee89fb-f10f-4181-becf-658facbd7bf7",
   "metadata": {},
   "outputs": [
    {
     "name": "stdout",
     "output_type": "stream",
     "text": [
      "          Date  Customer ID Product Category  Sales Amount\n",
      "0   2024-01-01          101      Electronics         500.0\n",
      "1   2024-01-02          102         Clothing         300.0\n",
      "2   2024-01-03          103      Electronics         600.0\n",
      "3   2024-01-04          104        Furniture         800.0\n",
      "4   2024-01-05          105      Electronics         450.0\n",
      "5   2024-01-00          106         Clothing         200.0\n",
      "6   2024-01-07          107      Electronics           NaN\n",
      "7   2024-01-08          108        Furniture         700.0\n",
      "8   2024-01-08          108        Furniture         700.0\n",
      "9   2024-01-09          109         Clothing        -100.0\n",
      "10  2024-01-10          110      Electronics         550.0\n"
     ]
    }
   ],
   "source": [
    "print(df)"
   ]
  },
  {
   "cell_type": "code",
   "execution_count": 17,
   "id": "260b7cfd-b962-4ddd-b575-cb865faad853",
   "metadata": {},
   "outputs": [
    {
     "name": "stdout",
     "output_type": "stream",
     "text": [
      "<class 'pandas.core.frame.DataFrame'>\n",
      "RangeIndex: 11 entries, 0 to 10\n",
      "Data columns (total 4 columns):\n",
      " #   Column            Non-Null Count  Dtype  \n",
      "---  ------            --------------  -----  \n",
      " 0   Date              11 non-null     object \n",
      " 1   Customer ID       11 non-null     int64  \n",
      " 2   Product Category  11 non-null     object \n",
      " 3   Sales Amount      10 non-null     float64\n",
      "dtypes: float64(1), int64(1), object(2)\n",
      "memory usage: 480.0+ bytes\n"
     ]
    }
   ],
   "source": [
    "df.info()"
   ]
  },
  {
   "cell_type": "code",
   "execution_count": 18,
   "id": "752efc71-f550-496d-84b3-fdc02ef26cd3",
   "metadata": {},
   "outputs": [],
   "source": [
    "# removing nan values\n",
    "df.dropna(inplace = True)"
   ]
  },
  {
   "cell_type": "code",
   "execution_count": 19,
   "id": "769402c3-bca0-4195-93a7-c920b7facff0",
   "metadata": {},
   "outputs": [],
   "source": [
    "# Change negative sales amounts to positive\n",
    "df['Sales Amount'] = abs(df['Sales Amount'])"
   ]
  },
  {
   "cell_type": "code",
   "execution_count": 20,
   "id": "6f2f4554-9f77-44a2-ac51-90729e57a194",
   "metadata": {},
   "outputs": [
    {
     "data": {
      "text/html": [
       "<div>\n",
       "<style scoped>\n",
       "    .dataframe tbody tr th:only-of-type {\n",
       "        vertical-align: middle;\n",
       "    }\n",
       "\n",
       "    .dataframe tbody tr th {\n",
       "        vertical-align: top;\n",
       "    }\n",
       "\n",
       "    .dataframe thead th {\n",
       "        text-align: right;\n",
       "    }\n",
       "</style>\n",
       "<table border=\"1\" class=\"dataframe\">\n",
       "  <thead>\n",
       "    <tr style=\"text-align: right;\">\n",
       "      <th></th>\n",
       "      <th>Date</th>\n",
       "      <th>Customer ID</th>\n",
       "      <th>Product Category</th>\n",
       "      <th>Sales Amount</th>\n",
       "    </tr>\n",
       "  </thead>\n",
       "  <tbody>\n",
       "    <tr>\n",
       "      <th>0</th>\n",
       "      <td>2024-01-01</td>\n",
       "      <td>101</td>\n",
       "      <td>Electronics</td>\n",
       "      <td>500.0</td>\n",
       "    </tr>\n",
       "    <tr>\n",
       "      <th>1</th>\n",
       "      <td>2024-01-02</td>\n",
       "      <td>102</td>\n",
       "      <td>Clothing</td>\n",
       "      <td>300.0</td>\n",
       "    </tr>\n",
       "    <tr>\n",
       "      <th>2</th>\n",
       "      <td>2024-01-03</td>\n",
       "      <td>103</td>\n",
       "      <td>Electronics</td>\n",
       "      <td>600.0</td>\n",
       "    </tr>\n",
       "    <tr>\n",
       "      <th>3</th>\n",
       "      <td>2024-01-04</td>\n",
       "      <td>104</td>\n",
       "      <td>Furniture</td>\n",
       "      <td>800.0</td>\n",
       "    </tr>\n",
       "    <tr>\n",
       "      <th>4</th>\n",
       "      <td>2024-01-05</td>\n",
       "      <td>105</td>\n",
       "      <td>Electronics</td>\n",
       "      <td>450.0</td>\n",
       "    </tr>\n",
       "    <tr>\n",
       "      <th>5</th>\n",
       "      <td>2024-01-00</td>\n",
       "      <td>106</td>\n",
       "      <td>Clothing</td>\n",
       "      <td>200.0</td>\n",
       "    </tr>\n",
       "    <tr>\n",
       "      <th>7</th>\n",
       "      <td>2024-01-08</td>\n",
       "      <td>108</td>\n",
       "      <td>Furniture</td>\n",
       "      <td>700.0</td>\n",
       "    </tr>\n",
       "    <tr>\n",
       "      <th>8</th>\n",
       "      <td>2024-01-08</td>\n",
       "      <td>108</td>\n",
       "      <td>Furniture</td>\n",
       "      <td>700.0</td>\n",
       "    </tr>\n",
       "    <tr>\n",
       "      <th>9</th>\n",
       "      <td>2024-01-09</td>\n",
       "      <td>109</td>\n",
       "      <td>Clothing</td>\n",
       "      <td>100.0</td>\n",
       "    </tr>\n",
       "    <tr>\n",
       "      <th>10</th>\n",
       "      <td>2024-01-10</td>\n",
       "      <td>110</td>\n",
       "      <td>Electronics</td>\n",
       "      <td>550.0</td>\n",
       "    </tr>\n",
       "  </tbody>\n",
       "</table>\n",
       "</div>"
      ],
      "text/plain": [
       "          Date  Customer ID Product Category  Sales Amount\n",
       "0   2024-01-01          101      Electronics         500.0\n",
       "1   2024-01-02          102         Clothing         300.0\n",
       "2   2024-01-03          103      Electronics         600.0\n",
       "3   2024-01-04          104        Furniture         800.0\n",
       "4   2024-01-05          105      Electronics         450.0\n",
       "5   2024-01-00          106         Clothing         200.0\n",
       "7   2024-01-08          108        Furniture         700.0\n",
       "8   2024-01-08          108        Furniture         700.0\n",
       "9   2024-01-09          109         Clothing         100.0\n",
       "10  2024-01-10          110      Electronics         550.0"
      ]
     },
     "execution_count": 20,
     "metadata": {},
     "output_type": "execute_result"
    }
   ],
   "source": [
    "df"
   ]
  },
  {
   "cell_type": "code",
   "execution_count": 78,
   "id": "dbead06b-5969-4962-8dcd-9b653ab926de",
   "metadata": {},
   "outputs": [
    {
     "data": {
      "text/html": [
       "<div>\n",
       "<style scoped>\n",
       "    .dataframe tbody tr th:only-of-type {\n",
       "        vertical-align: middle;\n",
       "    }\n",
       "\n",
       "    .dataframe tbody tr th {\n",
       "        vertical-align: top;\n",
       "    }\n",
       "\n",
       "    .dataframe thead th {\n",
       "        text-align: right;\n",
       "    }\n",
       "</style>\n",
       "<table border=\"1\" class=\"dataframe\">\n",
       "  <thead>\n",
       "    <tr style=\"text-align: right;\">\n",
       "      <th></th>\n",
       "      <th>Date</th>\n",
       "      <th>Customer ID</th>\n",
       "      <th>Product Category</th>\n",
       "      <th>Sales Amount</th>\n",
       "      <th>Gender</th>\n",
       "    </tr>\n",
       "  </thead>\n",
       "  <tbody>\n",
       "    <tr>\n",
       "      <th>0</th>\n",
       "      <td>2024-01-01</td>\n",
       "      <td>101</td>\n",
       "      <td>Electronics</td>\n",
       "      <td>500.0</td>\n",
       "      <td>M</td>\n",
       "    </tr>\n",
       "    <tr>\n",
       "      <th>1</th>\n",
       "      <td>2024-01-02</td>\n",
       "      <td>102</td>\n",
       "      <td>Clothing</td>\n",
       "      <td>300.0</td>\n",
       "      <td>M</td>\n",
       "    </tr>\n",
       "    <tr>\n",
       "      <th>2</th>\n",
       "      <td>2024-01-03</td>\n",
       "      <td>103</td>\n",
       "      <td>Electronics</td>\n",
       "      <td>600.0</td>\n",
       "      <td>F</td>\n",
       "    </tr>\n",
       "    <tr>\n",
       "      <th>3</th>\n",
       "      <td>2024-01-04</td>\n",
       "      <td>104</td>\n",
       "      <td>Furniture</td>\n",
       "      <td>800.0</td>\n",
       "      <td>F</td>\n",
       "    </tr>\n",
       "    <tr>\n",
       "      <th>4</th>\n",
       "      <td>2024-01-05</td>\n",
       "      <td>105</td>\n",
       "      <td>Electronics</td>\n",
       "      <td>450.0</td>\n",
       "      <td>M</td>\n",
       "    </tr>\n",
       "    <tr>\n",
       "      <th>7</th>\n",
       "      <td>2024-01-08</td>\n",
       "      <td>108</td>\n",
       "      <td>Furniture</td>\n",
       "      <td>700.0</td>\n",
       "      <td>M</td>\n",
       "    </tr>\n",
       "    <tr>\n",
       "      <th>8</th>\n",
       "      <td>2024-01-08</td>\n",
       "      <td>108</td>\n",
       "      <td>Furniture</td>\n",
       "      <td>700.0</td>\n",
       "      <td>F</td>\n",
       "    </tr>\n",
       "    <tr>\n",
       "      <th>9</th>\n",
       "      <td>2024-01-09</td>\n",
       "      <td>109</td>\n",
       "      <td>Clothing</td>\n",
       "      <td>100.0</td>\n",
       "      <td>F</td>\n",
       "    </tr>\n",
       "    <tr>\n",
       "      <th>10</th>\n",
       "      <td>2024-01-10</td>\n",
       "      <td>110</td>\n",
       "      <td>Electronics</td>\n",
       "      <td>550.0</td>\n",
       "      <td>F</td>\n",
       "    </tr>\n",
       "  </tbody>\n",
       "</table>\n",
       "</div>"
      ],
      "text/plain": [
       "         Date  Customer ID Product Category  Sales Amount Gender\n",
       "0  2024-01-01          101      Electronics         500.0      M\n",
       "1  2024-01-02          102         Clothing         300.0      M\n",
       "2  2024-01-03          103      Electronics         600.0      F\n",
       "3  2024-01-04          104        Furniture         800.0      F\n",
       "4  2024-01-05          105      Electronics         450.0      M\n",
       "7  2024-01-08          108        Furniture         700.0      M\n",
       "8  2024-01-08          108        Furniture         700.0      F\n",
       "9  2024-01-09          109         Clothing         100.0      F\n",
       "10 2024-01-10          110      Electronics         550.0      F"
      ]
     },
     "execution_count": 78,
     "metadata": {},
     "output_type": "execute_result"
    }
   ],
   "source": [
    "# removing duplicates\n",
    "df.drop_duplicates()"
   ]
  },
  {
   "cell_type": "code",
   "execution_count": 80,
   "id": "32605e58-36f3-4ba6-a291-8fffd9c39525",
   "metadata": {},
   "outputs": [
    {
     "data": {
      "text/html": [
       "<div>\n",
       "<style scoped>\n",
       "    .dataframe tbody tr th:only-of-type {\n",
       "        vertical-align: middle;\n",
       "    }\n",
       "\n",
       "    .dataframe tbody tr th {\n",
       "        vertical-align: top;\n",
       "    }\n",
       "\n",
       "    .dataframe thead th {\n",
       "        text-align: right;\n",
       "    }\n",
       "</style>\n",
       "<table border=\"1\" class=\"dataframe\">\n",
       "  <thead>\n",
       "    <tr style=\"text-align: right;\">\n",
       "      <th></th>\n",
       "      <th>Date</th>\n",
       "      <th>Customer ID</th>\n",
       "      <th>Product Category</th>\n",
       "      <th>Sales Amount</th>\n",
       "      <th>Gender</th>\n",
       "    </tr>\n",
       "  </thead>\n",
       "  <tbody>\n",
       "    <tr>\n",
       "      <th>0</th>\n",
       "      <td>2024-01-01</td>\n",
       "      <td>101</td>\n",
       "      <td>Electronics</td>\n",
       "      <td>500.0</td>\n",
       "      <td>M</td>\n",
       "    </tr>\n",
       "    <tr>\n",
       "      <th>1</th>\n",
       "      <td>2024-01-02</td>\n",
       "      <td>102</td>\n",
       "      <td>Clothing</td>\n",
       "      <td>300.0</td>\n",
       "      <td>M</td>\n",
       "    </tr>\n",
       "    <tr>\n",
       "      <th>2</th>\n",
       "      <td>2024-01-03</td>\n",
       "      <td>103</td>\n",
       "      <td>Electronics</td>\n",
       "      <td>600.0</td>\n",
       "      <td>F</td>\n",
       "    </tr>\n",
       "    <tr>\n",
       "      <th>3</th>\n",
       "      <td>2024-01-04</td>\n",
       "      <td>104</td>\n",
       "      <td>Furniture</td>\n",
       "      <td>800.0</td>\n",
       "      <td>F</td>\n",
       "    </tr>\n",
       "    <tr>\n",
       "      <th>4</th>\n",
       "      <td>2024-01-05</td>\n",
       "      <td>105</td>\n",
       "      <td>Electronics</td>\n",
       "      <td>450.0</td>\n",
       "      <td>M</td>\n",
       "    </tr>\n",
       "    <tr>\n",
       "      <th>5</th>\n",
       "      <td>2024-01-08</td>\n",
       "      <td>108</td>\n",
       "      <td>Furniture</td>\n",
       "      <td>700.0</td>\n",
       "      <td>M</td>\n",
       "    </tr>\n",
       "    <tr>\n",
       "      <th>6</th>\n",
       "      <td>2024-01-08</td>\n",
       "      <td>108</td>\n",
       "      <td>Furniture</td>\n",
       "      <td>700.0</td>\n",
       "      <td>F</td>\n",
       "    </tr>\n",
       "    <tr>\n",
       "      <th>7</th>\n",
       "      <td>2024-01-09</td>\n",
       "      <td>109</td>\n",
       "      <td>Clothing</td>\n",
       "      <td>100.0</td>\n",
       "      <td>F</td>\n",
       "    </tr>\n",
       "    <tr>\n",
       "      <th>8</th>\n",
       "      <td>2024-01-10</td>\n",
       "      <td>110</td>\n",
       "      <td>Electronics</td>\n",
       "      <td>550.0</td>\n",
       "      <td>F</td>\n",
       "    </tr>\n",
       "  </tbody>\n",
       "</table>\n",
       "</div>"
      ],
      "text/plain": [
       "        Date  Customer ID Product Category  Sales Amount Gender\n",
       "0 2024-01-01          101      Electronics         500.0      M\n",
       "1 2024-01-02          102         Clothing         300.0      M\n",
       "2 2024-01-03          103      Electronics         600.0      F\n",
       "3 2024-01-04          104        Furniture         800.0      F\n",
       "4 2024-01-05          105      Electronics         450.0      M\n",
       "5 2024-01-08          108        Furniture         700.0      M\n",
       "6 2024-01-08          108        Furniture         700.0      F\n",
       "7 2024-01-09          109         Clothing         100.0      F\n",
       "8 2024-01-10          110      Electronics         550.0      F"
      ]
     },
     "execution_count": 80,
     "metadata": {},
     "output_type": "execute_result"
    }
   ],
   "source": [
    "# reset the index\n",
    "df.reset_index(drop=True)"
   ]
  },
  {
   "cell_type": "code",
   "execution_count": 81,
   "id": "db89916e-9b05-4acf-bd25-69f46d7cb140",
   "metadata": {},
   "outputs": [],
   "source": [
    "import matplotlib.pyplot as plt"
   ]
  },
  {
   "cell_type": "code",
   "execution_count": 82,
   "id": "cc60d2b4-249e-46a7-b6fa-3ce1424360ae",
   "metadata": {},
   "outputs": [
    {
     "data": {
      "image/png": "[encoded data removed]",
      "text/plain": [
       "<Figure size 640x480 with 1 Axes>"
      ]
     },
     "metadata": {},
     "output_type": "display_data"
    }
   ],
   "source": [
    "df.plot(x='Product Category', y='Sales Amount', kind='bar', legend=False)\n",
    "plt.xlabel('Product Category')\n",
    "plt.ylabel('Sales Amount')\n",
    "plt.title('Bar Plot of Sales Amount by Product Category')\n",
    "plt.xticks(rotation=45)\n",
    "plt.show()"
   ]
  },
  {
   "cell_type": "code",
   "execution_count": 83,
   "id": "6df12095-c885-4dc3-aeea-89e484110aaf",
   "metadata": {},
   "outputs": [
    {
     "data": {
      "text/html": [
       "<div>\n",
       "<style scoped>\n",
       "    .dataframe tbody tr th:only-of-type {\n",
       "        vertical-align: middle;\n",
       "    }\n",
       "\n",
       "    .dataframe tbody tr th {\n",
       "        vertical-align: top;\n",
       "    }\n",
       "\n",
       "    .dataframe thead th {\n",
       "        text-align: right;\n",
       "    }\n",
       "</style>\n",
       "<table border=\"1\" class=\"dataframe\">\n",
       "  <thead>\n",
       "    <tr style=\"text-align: right;\">\n",
       "      <th></th>\n",
       "      <th>Date</th>\n",
       "      <th>Customer ID</th>\n",
       "      <th>Product Category</th>\n",
       "      <th>Sales Amount</th>\n",
       "      <th>Gender</th>\n",
       "    </tr>\n",
       "  </thead>\n",
       "  <tbody>\n",
       "    <tr>\n",
       "      <th>0</th>\n",
       "      <td>2024-01-01</td>\n",
       "      <td>101</td>\n",
       "      <td>Electronics</td>\n",
       "      <td>500.0</td>\n",
       "      <td>F</td>\n",
       "    </tr>\n",
       "    <tr>\n",
       "      <th>1</th>\n",
       "      <td>2024-01-02</td>\n",
       "      <td>102</td>\n",
       "      <td>Clothing</td>\n",
       "      <td>300.0</td>\n",
       "      <td>M</td>\n",
       "    </tr>\n",
       "    <tr>\n",
       "      <th>2</th>\n",
       "      <td>2024-01-03</td>\n",
       "      <td>103</td>\n",
       "      <td>Electronics</td>\n",
       "      <td>600.0</td>\n",
       "      <td>M</td>\n",
       "    </tr>\n",
       "    <tr>\n",
       "      <th>3</th>\n",
       "      <td>2024-01-04</td>\n",
       "      <td>104</td>\n",
       "      <td>Furniture</td>\n",
       "      <td>800.0</td>\n",
       "      <td>F</td>\n",
       "    </tr>\n",
       "    <tr>\n",
       "      <th>4</th>\n",
       "      <td>2024-01-05</td>\n",
       "      <td>105</td>\n",
       "      <td>Electronics</td>\n",
       "      <td>450.0</td>\n",
       "      <td>F</td>\n",
       "    </tr>\n",
       "    <tr>\n",
       "      <th>7</th>\n",
       "      <td>2024-01-08</td>\n",
       "      <td>108</td>\n",
       "      <td>Furniture</td>\n",
       "      <td>700.0</td>\n",
       "      <td>M</td>\n",
       "    </tr>\n",
       "    <tr>\n",
       "      <th>8</th>\n",
       "      <td>2024-01-08</td>\n",
       "      <td>108</td>\n",
       "      <td>Furniture</td>\n",
       "      <td>700.0</td>\n",
       "      <td>M</td>\n",
       "    </tr>\n",
       "    <tr>\n",
       "      <th>9</th>\n",
       "      <td>2024-01-09</td>\n",
       "      <td>109</td>\n",
       "      <td>Clothing</td>\n",
       "      <td>100.0</td>\n",
       "      <td>M</td>\n",
       "    </tr>\n",
       "    <tr>\n",
       "      <th>10</th>\n",
       "      <td>2024-01-10</td>\n",
       "      <td>110</td>\n",
       "      <td>Electronics</td>\n",
       "      <td>550.0</td>\n",
       "      <td>F</td>\n",
       "    </tr>\n",
       "  </tbody>\n",
       "</table>\n",
       "</div>"
      ],
      "text/plain": [
       "         Date  Customer ID Product Category  Sales Amount Gender\n",
       "0  2024-01-01          101      Electronics         500.0      F\n",
       "1  2024-01-02          102         Clothing         300.0      M\n",
       "2  2024-01-03          103      Electronics         600.0      M\n",
       "3  2024-01-04          104        Furniture         800.0      F\n",
       "4  2024-01-05          105      Electronics         450.0      F\n",
       "7  2024-01-08          108        Furniture         700.0      M\n",
       "8  2024-01-08          108        Furniture         700.0      M\n",
       "9  2024-01-09          109         Clothing         100.0      M\n",
       "10 2024-01-10          110      Electronics         550.0      F"
      ]
     },
     "execution_count": 83,
     "metadata": {},
     "output_type": "execute_result"
    }
   ],
   "source": [
    "# Add a new column 'Gender' with random values\n",
    "import random\n",
    "gender_values = ['M', 'F']\n",
    "df['Gender'] = [random.choice(gender_values) for _ in range(len(df))]\n",
    "df"
   ]
  },
  {
   "cell_type": "code",
   "execution_count": 84,
   "id": "31057747-e7f2-4332-bea2-38745edfa7c7",
   "metadata": {},
   "outputs": [
    {
     "data": {
      "text/plain": [
       "<Axes: xlabel='Product Category'>"
      ]
     },
     "execution_count": 84,
     "metadata": {},
     "output_type": "execute_result"
    },
    {
     "data": {
      "image/png": "[encoded data removed]",
      "text/plain": [
       "<Figure size 640x480 with 1 Axes>"
      ]
     },
     "metadata": {},
     "output_type": "display_data"
    }
   ],
   "source": [
    "# Group by 'Product Category' and 'Gender', then sum the 'Sales Amount' for each group\n",
    "grouped = df.groupby(['Product Category', 'Gender'])['Sales Amount'].sum().unstack()\n",
    "grouped.plot()"
   ]
  },
  {
   "cell_type": "code",
   "execution_count": 120,
   "id": "4b26e526-76c0-4002-9604-57e6eac06f89",
   "metadata": {},
   "outputs": [
    {
     "data": {
      "text/plain": [
       "<Figure size 1000x600 with 0 Axes>"
      ]
     },
     "metadata": {},
     "output_type": "display_data"
    },
    {
     "data": {
      "image/png": "[encoded data removed]",
      "text/plain": [
       "<Figure size 640x480 with 1 Axes>"
      ]
     },
     "metadata": {},
     "output_type": "display_data"
    }
   ],
   "source": [
    "# Plotting the stacked bar chart\n",
    "plt.figure(figsize=(10, 6))\n",
    "grouped.plot(kind='bar')\n",
    "plt.xlabel('Product Category')\n",
    "plt.ylabel('Sales Amount')\n",
    "plt.title('Sales Amount by Product Category and Gender')\n",
    "plt.legend(title='Gender')\n",
    "plt.show()"
   ]
  },
  {
   "cell_type": "code",
   "execution_count": 129,
   "id": "f5156d95-121d-4800-95e2-82e3c2ff5981",
   "metadata": {},
   "outputs": [
    {
     "data": {
      "image/png": "[encoded data removed]",
      "text/plain": [
       "<Figure size 400x400 with 1 Axes>"
      ]
     },
     "metadata": {},
     "output_type": "display_data"
    }
   ],
   "source": [
    "# Group by 'Product Category' and sum the 'Sales Amount' for each category\n",
    "category_sales = df.groupby('Product Category')['Sales Amount'].sum()\n",
    "\n",
    "# Plotting the pie chart\n",
    "plt.figure(figsize=(4, 4))\n",
    "plt.pie(category_sales, labels=category_sales.index, autopct='%1.1f%%', startangle=140)\n",
    "plt.title('Sales Amount Distribution by Product Category')\n",
    "plt.axis('equal')  # Equal aspect ratio ensures that pie is drawn as a circle.\n",
    "\n",
    "plt.tight_layout()\n",
    "plt.show()"
   ]
  },
  {
   "cell_type": "code",
   "execution_count": null,
   "id": "463a58b9-03ff-4082-9754-ff5a11f2252f",
   "metadata": {},
   "outputs": [],
   "source": []
  }
 ],
 "metadata": {
  "kernelspec": {
   "display_name": "Python 3 (ipykernel)",
   "language": "python",
   "name": "python3"
  },
  "language_info": {
   "codemirror_mode": {
    "name": "ipython",
    "version": 3
   },
   "file_extension": ".py",
   "mimetype": "text/x-python",
   "name": "python",
   "nbconvert_exporter": "python",
   "pygments_lexer": "ipython3",
   "version": "3.10.14"
  }
 },
 "nbformat": 4,
 "nbformat_minor": 5
}
