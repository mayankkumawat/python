{
 "cells": [
  {
   "cell_type": "code",
   "execution_count": 1,
   "id": "e7e39c3a-6404-4136-88a9-b1280d63ff20",
   "metadata": {},
   "outputs": [],
   "source": [
    "import time"
   ]
  },
  {
   "cell_type": "code",
   "execution_count": 2,
   "id": "514084b5-abd0-45d3-bdd7-c9a0f51beb4b",
   "metadata": {},
   "outputs": [
    {
     "name": "stdout",
     "output_type": "stream",
     "text": [
      "Press ENTER to begin. Afterward, press ENTER to \"click\" the stopwatch. Press Ctrl-C to quit.\n"
     ]
    },
    {
     "name": "stdin",
     "output_type": "stream",
     "text": [
      " \n"
     ]
    },
    {
     "name": "stdout",
     "output_type": "stream",
     "text": [
      "Started.\n"
     ]
    }
   ],
   "source": [
    "# Display the program's instructions.\n",
    "print('Press ENTER to begin. Afterward, press ENTER to \"click\" the stopwatch. Press Ctrl-C to quit.')\n",
    "input()                    # press Enter to begin\n",
    "print('Started.')\n",
    "startTime = time.time()    # get the first lap's start time\n",
    "lastTime = startTime\n",
    "lapNum = 1"
   ]
  },
  {
   "cell_type": "code",
   "execution_count": 3,
   "id": "21a066fc-f1e5-4704-80df-26563f36793d",
   "metadata": {},
   "outputs": [
    {
     "name": "stdin",
     "output_type": "stream",
     "text": [
      " \n"
     ]
    },
    {
     "name": "stdout",
     "output_type": "stream",
     "text": [
      "Lap #1: 5.44 (5.44)"
     ]
    },
    {
     "name": "stdin",
     "output_type": "stream",
     "text": [
      " \n"
     ]
    },
    {
     "name": "stdout",
     "output_type": "stream",
     "text": [
      "Lap #2: 8.49 (3.05)"
     ]
    },
    {
     "name": "stdin",
     "output_type": "stream",
     "text": [
      " \n"
     ]
    },
    {
     "name": "stdout",
     "output_type": "stream",
     "text": [
      "Lap #3: 9.2 (0.71)"
     ]
    },
    {
     "name": "stdin",
     "output_type": "stream",
     "text": [
      " \n"
     ]
    },
    {
     "name": "stdout",
     "output_type": "stream",
     "text": [
      "Lap #4: 9.65 (0.45)"
     ]
    },
    {
     "name": "stdin",
     "output_type": "stream",
     "text": [
      " \n"
     ]
    },
    {
     "name": "stdout",
     "output_type": "stream",
     "text": [
      "Lap #5: 10.0 (0.35)"
     ]
    },
    {
     "name": "stdin",
     "output_type": "stream",
     "text": [
      " \n"
     ]
    },
    {
     "name": "stdout",
     "output_type": "stream",
     "text": [
      "Lap #6: 11.42 (1.42)"
     ]
    },
    {
     "name": "stdin",
     "output_type": "stream",
     "text": [
      " \n"
     ]
    },
    {
     "name": "stdout",
     "output_type": "stream",
     "text": [
      "Lap #7: 16.58 (5.15)\n",
      "Done.\n"
     ]
    }
   ],
   "source": [
    "# Start tracking the lap times.\n",
    "try:\n",
    "    while True:\n",
    "        input()\n",
    "        lapTime = round(time.time() - lastTime, 2)\n",
    "        totalTime = round(time.time() - startTime, 2)\n",
    "        print('Lap #%s: %s (%s)' % (lapNum, totalTime, lapTime), end='')\n",
    "        lapNum = lapNum + 1\n",
    "        # reset the last lap time\n",
    "        lastTime = time.time() \n",
    "except KeyboardInterrupt:\n",
    "       # Handle the Ctrl-C exception to keep its error message from displaying.\n",
    "       print('\\nDone.')"
   ]
  },
  {
   "cell_type": "code",
   "execution_count": null,
   "id": "27c5ba38-52ec-4950-971a-65951311b464",
   "metadata": {},
   "outputs": [],
   "source": []
  }
 ],
 "metadata": {
  "kernelspec": {
   "display_name": "Python 3 (ipykernel)",
   "language": "python",
   "name": "python3"
  },
  "language_info": {
   "codemirror_mode": {
    "name": "ipython",
    "version": 3
   },
   "file_extension": ".py",
   "mimetype": "text/x-python",
   "name": "python",
   "nbconvert_exporter": "python",
   "pygments_lexer": "ipython3",
   "version": "3.10.14"
  }
 },
 "nbformat": 4,
 "nbformat_minor": 5
}
